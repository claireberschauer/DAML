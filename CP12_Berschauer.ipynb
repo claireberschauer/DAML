{
 "cells": [
  {
   "cell_type": "markdown",
   "id": "94dae190-357c-403c-8f6c-bbd361d673d6",
   "metadata": {},
   "source": [
    "# CP 12: Geant4 Exercises 3"
   ]
  },
  {
   "cell_type": "markdown",
   "id": "b716c8b8-644a-4af6-9347-554605769a50",
   "metadata": {
    "tags": []
   },
   "source": [
    "## Part 1: Collider Experiments"
   ]
  },
  {
   "cell_type": "code",
   "execution_count": 1,
   "id": "e9c748bc-343d-45dc-9dee-68fef04013b8",
   "metadata": {},
   "outputs": [],
   "source": [
    "# imports :)\n",
    "import numpy as np\n",
    "import pandas as pd\n",
    "import matplotlib.pyplot as plt"
   ]
  },
  {
   "cell_type": "code",
   "execution_count": 2,
   "id": "ccf05e2e-9f63-4938-ac12-4fb81bc67763",
   "metadata": {},
   "outputs": [],
   "source": [
    "# reading data\n",
    "truthData = pd.read_csv( \"output_nt_Truth.csv\", comment=\"#\", \\\n",
    "names=[ \"EventID\", \"Phi\", \"Theta\", \"Momentum\" ] )\n",
    "\n",
    "tracker1Data = pd.read_csv( \"output_nt_Tracker1.csv\", comment=\"#\", \\\n",
    "names=[ \"EventID\", \"Phi\", \"Theta\" ] )\n",
    "\n",
    "tracker2Data = pd.read_csv( \"output_nt_Tracker2.csv\", comment=\"#\", \\\n",
    "names=[ \"EventID\", \"Phi\", \"Theta\" ] )"
   ]
  },
  {
   "cell_type": "markdown",
   "id": "22095d5d-bc1d-4b80-a974-362c8f7d731b",
   "metadata": {},
   "source": [
    "Data visualization in tables:"
   ]
  },
  {
   "cell_type": "code",
   "execution_count": 3,
   "id": "ac7f72c6-6b82-49d3-b7e7-dfc4af0dd14a",
   "metadata": {},
   "outputs": [
    {
     "data": {
      "text/html": [
       "<div>\n",
       "<style scoped>\n",
       "    .dataframe tbody tr th:only-of-type {\n",
       "        vertical-align: middle;\n",
       "    }\n",
       "\n",
       "    .dataframe tbody tr th {\n",
       "        vertical-align: top;\n",
       "    }\n",
       "\n",
       "    .dataframe thead th {\n",
       "        text-align: right;\n",
       "    }\n",
       "</style>\n",
       "<table border=\"1\" class=\"dataframe\">\n",
       "  <thead>\n",
       "    <tr style=\"text-align: right;\">\n",
       "      <th></th>\n",
       "      <th>EventID</th>\n",
       "      <th>Phi</th>\n",
       "      <th>Theta</th>\n",
       "      <th>Momentum</th>\n",
       "    </tr>\n",
       "  </thead>\n",
       "  <tbody>\n",
       "    <tr>\n",
       "      <th>0</th>\n",
       "      <td>0</td>\n",
       "      <td>-0.063847</td>\n",
       "      <td>2.422340</td>\n",
       "      <td>45.2024</td>\n",
       "    </tr>\n",
       "    <tr>\n",
       "      <th>1</th>\n",
       "      <td>0</td>\n",
       "      <td>3.077680</td>\n",
       "      <td>0.719255</td>\n",
       "      <td>45.4999</td>\n",
       "    </tr>\n",
       "    <tr>\n",
       "      <th>2</th>\n",
       "      <td>1</td>\n",
       "      <td>0.702142</td>\n",
       "      <td>2.213210</td>\n",
       "      <td>45.4999</td>\n",
       "    </tr>\n",
       "    <tr>\n",
       "      <th>3</th>\n",
       "      <td>1</td>\n",
       "      <td>-2.439450</td>\n",
       "      <td>0.928381</td>\n",
       "      <td>45.4999</td>\n",
       "    </tr>\n",
       "    <tr>\n",
       "      <th>4</th>\n",
       "      <td>2</td>\n",
       "      <td>1.446030</td>\n",
       "      <td>0.929328</td>\n",
       "      <td>45.4999</td>\n",
       "    </tr>\n",
       "  </tbody>\n",
       "</table>\n",
       "</div>"
      ],
      "text/plain": [
       "   EventID       Phi     Theta  Momentum\n",
       "0        0 -0.063847  2.422340   45.2024\n",
       "1        0  3.077680  0.719255   45.4999\n",
       "2        1  0.702142  2.213210   45.4999\n",
       "3        1 -2.439450  0.928381   45.4999\n",
       "4        2  1.446030  0.929328   45.4999"
      ]
     },
     "execution_count": 3,
     "metadata": {},
     "output_type": "execute_result"
    }
   ],
   "source": [
    "truthData.head()"
   ]
  },
  {
   "cell_type": "code",
   "execution_count": 4,
   "id": "070fc322-a96a-402a-abd7-f3fad4f5e193",
   "metadata": {},
   "outputs": [
    {
     "data": {
      "text/html": [
       "<div>\n",
       "<style scoped>\n",
       "    .dataframe tbody tr th:only-of-type {\n",
       "        vertical-align: middle;\n",
       "    }\n",
       "\n",
       "    .dataframe tbody tr th {\n",
       "        vertical-align: top;\n",
       "    }\n",
       "\n",
       "    .dataframe thead th {\n",
       "        text-align: right;\n",
       "    }\n",
       "</style>\n",
       "<table border=\"1\" class=\"dataframe\">\n",
       "  <thead>\n",
       "    <tr style=\"text-align: right;\">\n",
       "      <th></th>\n",
       "      <th>EventID</th>\n",
       "      <th>Phi</th>\n",
       "      <th>Theta</th>\n",
       "    </tr>\n",
       "  </thead>\n",
       "  <tbody>\n",
       "    <tr>\n",
       "      <th>0</th>\n",
       "      <td>1</td>\n",
       "      <td>-2.447670</td>\n",
       "      <td>0.928358</td>\n",
       "    </tr>\n",
       "    <tr>\n",
       "      <th>1</th>\n",
       "      <td>1</td>\n",
       "      <td>0.710358</td>\n",
       "      <td>2.213220</td>\n",
       "    </tr>\n",
       "    <tr>\n",
       "      <th>2</th>\n",
       "      <td>2</td>\n",
       "      <td>-1.703770</td>\n",
       "      <td>2.212250</td>\n",
       "    </tr>\n",
       "    <tr>\n",
       "      <th>3</th>\n",
       "      <td>2</td>\n",
       "      <td>1.454290</td>\n",
       "      <td>0.929340</td>\n",
       "    </tr>\n",
       "    <tr>\n",
       "      <th>4</th>\n",
       "      <td>3</td>\n",
       "      <td>0.335390</td>\n",
       "      <td>2.182440</td>\n",
       "    </tr>\n",
       "  </tbody>\n",
       "</table>\n",
       "</div>"
      ],
      "text/plain": [
       "   EventID       Phi     Theta\n",
       "0        1 -2.447670  0.928358\n",
       "1        1  0.710358  2.213220\n",
       "2        2 -1.703770  2.212250\n",
       "3        2  1.454290  0.929340\n",
       "4        3  0.335390  2.182440"
      ]
     },
     "execution_count": 4,
     "metadata": {},
     "output_type": "execute_result"
    }
   ],
   "source": [
    "tracker1Data.head()"
   ]
  },
  {
   "cell_type": "code",
   "execution_count": 5,
   "id": "c83e6f01-44cb-439a-b6d6-e77092196ed6",
   "metadata": {},
   "outputs": [
    {
     "data": {
      "text/html": [
       "<div>\n",
       "<style scoped>\n",
       "    .dataframe tbody tr th:only-of-type {\n",
       "        vertical-align: middle;\n",
       "    }\n",
       "\n",
       "    .dataframe tbody tr th {\n",
       "        vertical-align: top;\n",
       "    }\n",
       "\n",
       "    .dataframe thead th {\n",
       "        text-align: right;\n",
       "    }\n",
       "</style>\n",
       "<table border=\"1\" class=\"dataframe\">\n",
       "  <thead>\n",
       "    <tr style=\"text-align: right;\">\n",
       "      <th></th>\n",
       "      <th>EventID</th>\n",
       "      <th>Phi</th>\n",
       "      <th>Theta</th>\n",
       "    </tr>\n",
       "  </thead>\n",
       "  <tbody>\n",
       "    <tr>\n",
       "      <th>0</th>\n",
       "      <td>0</td>\n",
       "      <td>-2.066390</td>\n",
       "      <td>2.334350</td>\n",
       "    </tr>\n",
       "    <tr>\n",
       "      <th>1</th>\n",
       "      <td>1</td>\n",
       "      <td>-2.455900</td>\n",
       "      <td>0.928325</td>\n",
       "    </tr>\n",
       "    <tr>\n",
       "      <th>2</th>\n",
       "      <td>1</td>\n",
       "      <td>0.718557</td>\n",
       "      <td>2.213250</td>\n",
       "    </tr>\n",
       "    <tr>\n",
       "      <th>3</th>\n",
       "      <td>1</td>\n",
       "      <td>0.718558</td>\n",
       "      <td>2.213250</td>\n",
       "    </tr>\n",
       "    <tr>\n",
       "      <th>4</th>\n",
       "      <td>1</td>\n",
       "      <td>0.718534</td>\n",
       "      <td>2.213250</td>\n",
       "    </tr>\n",
       "  </tbody>\n",
       "</table>\n",
       "</div>"
      ],
      "text/plain": [
       "   EventID       Phi     Theta\n",
       "0        0 -2.066390  2.334350\n",
       "1        1 -2.455900  0.928325\n",
       "2        1  0.718557  2.213250\n",
       "3        1  0.718558  2.213250\n",
       "4        1  0.718534  2.213250"
      ]
     },
     "execution_count": 5,
     "metadata": {},
     "output_type": "execute_result"
    }
   ],
   "source": [
    "tracker2Data.head()"
   ]
  },
  {
   "cell_type": "code",
   "execution_count": 6,
   "id": "f9aedec7-7891-4b25-9af9-b330fe041ac7",
   "metadata": {},
   "outputs": [
    {
     "data": {
      "text/plain": [
       "999"
      ]
     },
     "execution_count": 6,
     "metadata": {},
     "output_type": "execute_result"
    }
   ],
   "source": [
    "# checking that I have the correct number of events (yep)\n",
    "max(truthData['EventID'])"
   ]
  },
  {
   "cell_type": "markdown",
   "id": "9a6c7493-3664-46a9-9b4b-91037338a22f",
   "metadata": {},
   "source": [
    "### Using the event ID, print the number of true particles, layer one hits, and layer two hits in each event."
   ]
  },
  {
   "cell_type": "code",
   "execution_count": 7,
   "id": "ff401523-8b35-46eb-9cb5-312add0e962e",
   "metadata": {},
   "outputs": [],
   "source": [
    "event_nums = np.arange(1000)\n",
    "\n",
    "# initializing empty lists for things I want to calculate\n",
    "event_truths = []\n",
    "event_layer1_hits = []\n",
    "event_layer2_hits = []\n",
    "\n",
    "# looping through event numbers 1 to 1000, calculating the number of times an event\n",
    "# number appears in all three datasets\n",
    "for event in event_nums:\n",
    "    event_truth = np.count_nonzero([truthData['EventID'] == event])\n",
    "    event_truths.append(event_truth)\n",
    "    \n",
    "    event_layer1 = np.count_nonzero([tracker1Data['EventID'] == event])\n",
    "    event_layer1_hits.append(event_layer1)\n",
    "    \n",
    "    event_layer2 = np.count_nonzero([tracker2Data['EventID'] == event])\n",
    "    event_layer2_hits.append(event_layer2)\n",
    "\n",
    "# compiling the counts into a dataframe\n",
    "event_counts = pd.DataFrame({'True_Particles': event_truths, \n",
    "                             'Layer1_Hits': event_layer1_hits, \n",
    "                             'Layer2_Hits': event_layer2_hits\n",
    "                            })"
   ]
  },
  {
   "cell_type": "code",
   "execution_count": 8,
   "id": "20c96924-2466-4936-9db6-094ef5b6309e",
   "metadata": {},
   "outputs": [
    {
     "data": {
      "text/html": [
       "<div>\n",
       "<style scoped>\n",
       "    .dataframe tbody tr th:only-of-type {\n",
       "        vertical-align: middle;\n",
       "    }\n",
       "\n",
       "    .dataframe tbody tr th {\n",
       "        vertical-align: top;\n",
       "    }\n",
       "\n",
       "    .dataframe thead th {\n",
       "        text-align: right;\n",
       "    }\n",
       "</style>\n",
       "<table border=\"1\" class=\"dataframe\">\n",
       "  <thead>\n",
       "    <tr style=\"text-align: right;\">\n",
       "      <th></th>\n",
       "      <th>True_Particles</th>\n",
       "      <th>Layer1_Hits</th>\n",
       "      <th>Layer2_Hits</th>\n",
       "    </tr>\n",
       "  </thead>\n",
       "  <tbody>\n",
       "    <tr>\n",
       "      <th>0</th>\n",
       "      <td>2</td>\n",
       "      <td>0</td>\n",
       "      <td>1</td>\n",
       "    </tr>\n",
       "    <tr>\n",
       "      <th>1</th>\n",
       "      <td>2</td>\n",
       "      <td>2</td>\n",
       "      <td>7</td>\n",
       "    </tr>\n",
       "    <tr>\n",
       "      <th>2</th>\n",
       "      <td>2</td>\n",
       "      <td>2</td>\n",
       "      <td>2</td>\n",
       "    </tr>\n",
       "    <tr>\n",
       "      <th>3</th>\n",
       "      <td>2</td>\n",
       "      <td>2</td>\n",
       "      <td>6</td>\n",
       "    </tr>\n",
       "    <tr>\n",
       "      <th>4</th>\n",
       "      <td>2</td>\n",
       "      <td>34</td>\n",
       "      <td>2</td>\n",
       "    </tr>\n",
       "  </tbody>\n",
       "</table>\n",
       "</div>"
      ],
      "text/plain": [
       "   True_Particles  Layer1_Hits  Layer2_Hits\n",
       "0               2            0            1\n",
       "1               2            2            7\n",
       "2               2            2            2\n",
       "3               2            2            6\n",
       "4               2           34            2"
      ]
     },
     "execution_count": 8,
     "metadata": {},
     "output_type": "execute_result"
    }
   ],
   "source": [
    "event_counts.head()"
   ]
  },
  {
   "cell_type": "markdown",
   "id": "a3b45dd4-6b16-4c10-82d8-f1aa05215dc8",
   "metadata": {
    "tags": []
   },
   "source": [
    "## Part 2: Track Reconstruction"
   ]
  },
  {
   "cell_type": "code",
   "execution_count": 9,
   "id": "9d9fa33a-9a12-47ae-ab86-d93f732dba5c",
   "metadata": {
    "tags": []
   },
   "outputs": [],
   "source": [
    "# reference code from the checkpoint document\n",
    "import math\n",
    "\n",
    "def pair_finding(l1_theta, l2_theta):\n",
    "    # determine whether the two events of interest are the same particle\n",
    "    if (math.fabs(l1_theta - l2_theta) < 0.0001 ):\n",
    "        print(\"Pair found!\")"
   ]
  },
  {
   "cell_type": "markdown",
   "id": "ffe54374-401d-44e8-a1b3-46ef107e10b5",
   "metadata": {},
   "source": [
    "### For each event, find all pairs of hits between layer 1 and layer 2."
   ]
  },
  {
   "cell_type": "code",
   "execution_count": 25,
   "id": "b54a1bd2-80d6-4a61-a963-0da9f2d06fb9",
   "metadata": {},
   "outputs": [],
   "source": [
    "# initializing empty lists for things I want to record\n",
    "event_ids = []\n",
    "l1_indices = []\n",
    "l2_indices = []\n",
    "l1_thetas = []\n",
    "l2_thetas = []\n",
    "\n",
    "events = np.arange(1000)\n",
    "\n",
    "# looping through event IDs 1 to 1000, recording all of the information of\n",
    "# reconstructed particles that meet the requirement of having a delta theta\n",
    "# value less than 0.00004. I record the event ID, the indices of the particle\n",
    "# in both tracker datasets, and the theta angles of the particle in both \n",
    "# datasets\n",
    "for event in events:\n",
    "    # decreasing the datasets to subsets by event ID reduces loop time significantly\n",
    "    subset1 = tracker1Data[tracker1Data['EventID'] == event]\n",
    "    subset2 = tracker2Data[tracker2Data['EventID'] == event]\n",
    "    \n",
    "    for ind1 in subset1.index:\n",
    "        for ind2 in subset2.index:\n",
    "            if abs(subset1['Theta'][ind1] - subset2['Theta'][ind2]) < 0.00004:\n",
    "                event_ids.append(event)\n",
    "                l1_indices.append(ind1)\n",
    "                l2_indices.append(ind2)\n",
    "                l1_thetas.append(subset1['Theta'][ind1])\n",
    "                l2_thetas.append(subset2['Theta'][ind2])\n",
    "\n",
    "# compiling the reconstructed particle information in a dataframe\n",
    "pairs = pd.DataFrame({'EventID': event_ids, \n",
    "                      'l1_index': l1_indices,\n",
    "                      'l2_index': l2_indices,\n",
    "                      'l1_theta': l1_thetas,\n",
    "                      'l2_theta': l2_thetas\n",
    "                     })"
   ]
  },
  {
   "cell_type": "code",
   "execution_count": 26,
   "id": "c2dccf97-0734-4431-8f1a-11b563482524",
   "metadata": {},
   "outputs": [
    {
     "data": {
      "text/html": [
       "<div>\n",
       "<style scoped>\n",
       "    .dataframe tbody tr th:only-of-type {\n",
       "        vertical-align: middle;\n",
       "    }\n",
       "\n",
       "    .dataframe tbody tr th {\n",
       "        vertical-align: top;\n",
       "    }\n",
       "\n",
       "    .dataframe thead th {\n",
       "        text-align: right;\n",
       "    }\n",
       "</style>\n",
       "<table border=\"1\" class=\"dataframe\">\n",
       "  <thead>\n",
       "    <tr style=\"text-align: right;\">\n",
       "      <th></th>\n",
       "      <th>EventID</th>\n",
       "      <th>l1_index</th>\n",
       "      <th>l2_index</th>\n",
       "      <th>l1_theta</th>\n",
       "      <th>l2_theta</th>\n",
       "    </tr>\n",
       "  </thead>\n",
       "  <tbody>\n",
       "    <tr>\n",
       "      <th>0</th>\n",
       "      <td>1</td>\n",
       "      <td>0</td>\n",
       "      <td>1</td>\n",
       "      <td>0.928358</td>\n",
       "      <td>0.928325</td>\n",
       "    </tr>\n",
       "    <tr>\n",
       "      <th>1</th>\n",
       "      <td>1</td>\n",
       "      <td>1</td>\n",
       "      <td>2</td>\n",
       "      <td>2.213220</td>\n",
       "      <td>2.213250</td>\n",
       "    </tr>\n",
       "    <tr>\n",
       "      <th>2</th>\n",
       "      <td>1</td>\n",
       "      <td>1</td>\n",
       "      <td>3</td>\n",
       "      <td>2.213220</td>\n",
       "      <td>2.213250</td>\n",
       "    </tr>\n",
       "    <tr>\n",
       "      <th>3</th>\n",
       "      <td>1</td>\n",
       "      <td>1</td>\n",
       "      <td>4</td>\n",
       "      <td>2.213220</td>\n",
       "      <td>2.213250</td>\n",
       "    </tr>\n",
       "    <tr>\n",
       "      <th>4</th>\n",
       "      <td>1</td>\n",
       "      <td>1</td>\n",
       "      <td>5</td>\n",
       "      <td>2.213220</td>\n",
       "      <td>2.213250</td>\n",
       "    </tr>\n",
       "  </tbody>\n",
       "</table>\n",
       "</div>"
      ],
      "text/plain": [
       "   EventID  l1_index  l2_index  l1_theta  l2_theta\n",
       "0        1         0         1  0.928358  0.928325\n",
       "1        1         1         2  2.213220  2.213250\n",
       "2        1         1         3  2.213220  2.213250\n",
       "3        1         1         4  2.213220  2.213250\n",
       "4        1         1         5  2.213220  2.213250"
      ]
     },
     "execution_count": 26,
     "metadata": {},
     "output_type": "execute_result"
    }
   ],
   "source": [
    "pairs.head()"
   ]
  },
  {
   "cell_type": "markdown",
   "id": "37e82cb4-5319-46f2-bead-3a50f84ff1e4",
   "metadata": {},
   "source": [
    "### For each pair of tracker hits, assume they come from a single particle and calcuate its momentum."
   ]
  },
  {
   "cell_type": "code",
   "execution_count": 27,
   "id": "bc686c71-4b51-432d-9033-30cba8d2f37d",
   "metadata": {},
   "outputs": [],
   "source": [
    "def calc_sagitta(phi1, phi2, r1):\n",
    "    # a function to calculate sagitta\n",
    "    delta_phi = abs(phi1 - phi2)\n",
    "    sagitta = np.sin(delta_phi)*r1\n",
    "    return sagitta\n",
    "\n",
    "# Various equations\n",
    "# R = (L^2) / (8*s)\n",
    "# p_T = 0.3*B*R\n",
    "# p = p_T/sin(theta)\n",
    "\n",
    "def calc_momentum(L, sagitta, B, theta):\n",
    "    # a function to calculate total momentum\n",
    "    R = (L**2) / (8*sagitta)\n",
    "    p_T = 0.3*B*R\n",
    "    p = p_T / np.sin(theta)\n",
    "    return p"
   ]
  },
  {
   "cell_type": "code",
   "execution_count": 28,
   "id": "add2ad7d-59e8-4b1a-be9d-009a6b46ed78",
   "metadata": {},
   "outputs": [],
   "source": [
    "# radii of the two layers (L = radius of layer 2; r1 = radius of layer 1) and magnetic field B\n",
    "L = 8\n",
    "r1 = 4\n",
    "B = 0.5\n",
    "\n",
    "# initializing an empty list to record calculated momenta\n",
    "momenta = []\n",
    "\n",
    "# looping through every reconstructed particle in pairs dataframe, using the functions\n",
    "# in the previous cell to calculate total momentum. I chose just to use the theta value\n",
    "# in the tracker1 dataset, since it is essentially equal to the theta in tracker2 data\n",
    "for item in pairs.index:\n",
    "    index_1 = pairs['l1_index'][item]\n",
    "    index_2 = pairs['l2_index'][item]\n",
    "    \n",
    "    s = calc_sagitta(tracker1Data['Phi'][index_1], tracker2Data['Phi'][index_2], r1)\n",
    "    p = calc_momentum(L, s, B, pairs['l1_theta'][item])\n",
    "    \n",
    "    momenta.append(p)\n",
    "\n",
    "# concatenating the momentum data and the pairs dataframe\n",
    "momenta_df = pd.DataFrame({'momentum': momenta})\n",
    "pairs = pd.concat([pairs, momenta_df], axis=1)"
   ]
  },
  {
   "cell_type": "code",
   "execution_count": 29,
   "id": "88b44eb6-f436-44f9-a1e9-1abf714f89e8",
   "metadata": {},
   "outputs": [
    {
     "data": {
      "text/html": [
       "<div>\n",
       "<style scoped>\n",
       "    .dataframe tbody tr th:only-of-type {\n",
       "        vertical-align: middle;\n",
       "    }\n",
       "\n",
       "    .dataframe tbody tr th {\n",
       "        vertical-align: top;\n",
       "    }\n",
       "\n",
       "    .dataframe thead th {\n",
       "        text-align: right;\n",
       "    }\n",
       "</style>\n",
       "<table border=\"1\" class=\"dataframe\">\n",
       "  <thead>\n",
       "    <tr style=\"text-align: right;\">\n",
       "      <th></th>\n",
       "      <th>EventID</th>\n",
       "      <th>l1_index</th>\n",
       "      <th>l2_index</th>\n",
       "      <th>l1_theta</th>\n",
       "      <th>l2_theta</th>\n",
       "      <th>momentum</th>\n",
       "    </tr>\n",
       "  </thead>\n",
       "  <tbody>\n",
       "    <tr>\n",
       "      <th>0</th>\n",
       "      <td>1</td>\n",
       "      <td>0</td>\n",
       "      <td>1</td>\n",
       "      <td>0.928358</td>\n",
       "      <td>0.928325</td>\n",
       "      <td>45.529255</td>\n",
       "    </tr>\n",
       "    <tr>\n",
       "      <th>1</th>\n",
       "      <td>1</td>\n",
       "      <td>1</td>\n",
       "      <td>2</td>\n",
       "      <td>2.213220</td>\n",
       "      <td>2.213250</td>\n",
       "      <td>45.700894</td>\n",
       "    </tr>\n",
       "    <tr>\n",
       "      <th>2</th>\n",
       "      <td>1</td>\n",
       "      <td>1</td>\n",
       "      <td>3</td>\n",
       "      <td>2.213220</td>\n",
       "      <td>2.213250</td>\n",
       "      <td>45.695321</td>\n",
       "    </tr>\n",
       "    <tr>\n",
       "      <th>3</th>\n",
       "      <td>1</td>\n",
       "      <td>1</td>\n",
       "      <td>4</td>\n",
       "      <td>2.213220</td>\n",
       "      <td>2.213250</td>\n",
       "      <td>45.829453</td>\n",
       "    </tr>\n",
       "    <tr>\n",
       "      <th>4</th>\n",
       "      <td>1</td>\n",
       "      <td>1</td>\n",
       "      <td>5</td>\n",
       "      <td>2.213220</td>\n",
       "      <td>2.213250</td>\n",
       "      <td>45.924941</td>\n",
       "    </tr>\n",
       "  </tbody>\n",
       "</table>\n",
       "</div>"
      ],
      "text/plain": [
       "   EventID  l1_index  l2_index  l1_theta  l2_theta   momentum\n",
       "0        1         0         1  0.928358  0.928325  45.529255\n",
       "1        1         1         2  2.213220  2.213250  45.700894\n",
       "2        1         1         3  2.213220  2.213250  45.695321\n",
       "3        1         1         4  2.213220  2.213250  45.829453\n",
       "4        1         1         5  2.213220  2.213250  45.924941"
      ]
     },
     "execution_count": 29,
     "metadata": {},
     "output_type": "execute_result"
    }
   ],
   "source": [
    "pairs.head()"
   ]
  },
  {
   "cell_type": "markdown",
   "id": "bb828f32-df36-4720-a7d8-ed39c073f19b",
   "metadata": {
    "tags": []
   },
   "source": [
    "### Find the momentum resolution of our experiment. Plot a 1D histogram to show the distribution for all reconstructed particles.\n"
   ]
  },
  {
   "cell_type": "code",
   "execution_count": 14,
   "id": "c8c8742d-80c2-4590-abe2-71f22e7d96df",
   "metadata": {},
   "outputs": [],
   "source": [
    "# making a list of event IDs that appear in the pairs dataframe\n",
    "selected_truth_ids = [i for i in truthData['EventID'] if i in pairs['EventID'].values]\n",
    "truth_ids = [*set(selected_truth_ids)]        "
   ]
  },
  {
   "cell_type": "code",
   "execution_count": 15,
   "id": "a9164171-2394-406b-92a1-e4aa74532e70",
   "metadata": {},
   "outputs": [],
   "source": [
    "# initializing an empty list for calculating momentum resolution values\n",
    "calc_val = []\n",
    "\n",
    "# looping through every reconstructed particle in pairs, choosing the best corresponding true momentum value\n",
    "# in the true dataset by checking which theta value is closer to the reconstructed particle's\n",
    "for particle in pairs.index:\n",
    "    ID = pairs['EventID'][particle]\n",
    "    truth_selection = truthData[truthData['EventID'] == ID]\n",
    "    ts_inds = truth_selection.index\n",
    "    \n",
    "    if abs(truth_selection['Theta'][ts_inds[0]] - pairs['l1_theta'][particle]) < \\\n",
    "    abs(truth_selection['Theta'][ts_inds[1]] - pairs['l1_theta'][particle]):\n",
    "        diff = (pairs['momentum'][particle] - truth_selection['Momentum'][ts_inds[0]])/(truth_selection['Momentum'][ts_inds[0]])\n",
    "        calc_val.append(diff)\n",
    "            \n",
    "    else:\n",
    "        diff = (pairs['momentum'][particle] - truth_selection['Momentum'][ts_inds[1]])/(truth_selection['Momentum'][ts_inds[1]])\n",
    "        calc_val.append(diff)                                                                "
   ]
  },
  {
   "cell_type": "code",
   "execution_count": 16,
   "id": "1b25b00a-d92b-4afa-96d0-371c21577189",
   "metadata": {},
   "outputs": [
    {
     "data": {
      "image/png": "[encoded data removed]",
      "text/plain": [
       "<Figure size 640x480 with 1 Axes>"
      ]
     },
     "metadata": {},
     "output_type": "display_data"
    }
   ],
   "source": [
    "# plotting momentum resolution distribution\n",
    "plt.figure()\n",
    "plt.hist(calc_val, bins=75)\n",
    "plt.xlim([-1, 1])\n",
    "plt.xlabel('(Calculated Momentum - True Momentum)/True Momentum')\n",
    "plt.ylabel('Number of Reconstructed Particles')\n",
    "plt.show()"
   ]
  },
  {
   "cell_type": "code",
   "execution_count": 17,
   "id": "f2c7dee7-2d72-4d19-85f5-7d6e76c88124",
   "metadata": {},
   "outputs": [
    {
     "data": {
      "image/png": "[encoded data removed]",
      "text/plain": [
       "<Figure size 640x480 with 1 Axes>"
      ]
     },
     "metadata": {},
     "output_type": "display_data"
    }
   ],
   "source": [
    "# plotting momentum resolution distribution with a logscale axis\n",
    "plt.figure()\n",
    "plt.hist(calc_val, bins=75)\n",
    "plt.xlim([-3, 3])\n",
    "plt.yscale('log')\n",
    "plt.xlabel('(Calculated Momentum - True Momentum)/True Momentum')\n",
    "plt.ylabel('log(Number of Reconstructed Particles)')\n",
    "plt.show()"
   ]
  },
  {
   "cell_type": "markdown",
   "id": "4c6fcac1-7ffe-483e-b154-a6869bf5dd4c",
   "metadata": {},
   "source": [
    "The two charts show the distribution of momentum resolution, the first chart with regular axes, and the second chart with a logscale y axis. The average momentum resolution of all the reconstructed particles is:"
   ]
  },
  {
   "cell_type": "code",
   "execution_count": 18,
   "id": "50b023ad-59ec-4872-8796-c38ae0a78649",
   "metadata": {},
   "outputs": [
    {
     "data": {
      "text/plain": [
       "0.0374502142594683"
      ]
     },
     "execution_count": 18,
     "metadata": {},
     "output_type": "execute_result"
    }
   ],
   "source": [
    "np.mean(calc_val)"
   ]
  },
  {
   "cell_type": "markdown",
   "id": "c4b17489-6da0-4459-b307-33770968f8ee",
   "metadata": {
    "tags": []
   },
   "source": [
    "## Part 3: Physics Analysis"
   ]
  },
  {
   "cell_type": "markdown",
   "id": "7e8ba787-4c3e-4c6f-aaf2-df210475d974",
   "metadata": {},
   "source": [
    "### Plot the total mass distribution. What was the original particle? Compare your results to the PDG values for mass and width."
   ]
  },
  {
   "cell_type": "code",
   "execution_count": 19,
   "id": "16fe4894-d148-47f2-af3c-cc8e7177e927",
   "metadata": {
    "tags": []
   },
   "outputs": [],
   "source": [
    "# adding a delta theta column to the pairs dataframe\n",
    "deltheta_vals = abs(pairs['l1_theta'] - pairs['l2_theta'])\n",
    "delta_theta = pd.DataFrame({'delta_theta': deltheta_vals})\n",
    "pairs = pd.concat([pairs, delta_theta], axis=1)"
   ]
  },
  {
   "cell_type": "code",
   "execution_count": 20,
   "id": "c09276d3-c589-4a44-a09c-a5c30d927d58",
   "metadata": {},
   "outputs": [
    {
     "data": {
      "text/html": [
       "<div>\n",
       "<style scoped>\n",
       "    .dataframe tbody tr th:only-of-type {\n",
       "        vertical-align: middle;\n",
       "    }\n",
       "\n",
       "    .dataframe tbody tr th {\n",
       "        vertical-align: top;\n",
       "    }\n",
       "\n",
       "    .dataframe thead th {\n",
       "        text-align: right;\n",
       "    }\n",
       "</style>\n",
       "<table border=\"1\" class=\"dataframe\">\n",
       "  <thead>\n",
       "    <tr style=\"text-align: right;\">\n",
       "      <th></th>\n",
       "      <th>EventID</th>\n",
       "      <th>l1_index</th>\n",
       "      <th>l2_index</th>\n",
       "      <th>l1_theta</th>\n",
       "      <th>l2_theta</th>\n",
       "      <th>momentum</th>\n",
       "      <th>delta_theta</th>\n",
       "    </tr>\n",
       "  </thead>\n",
       "  <tbody>\n",
       "    <tr>\n",
       "      <th>15</th>\n",
       "      <td>6</td>\n",
       "      <td>42</td>\n",
       "      <td>20</td>\n",
       "      <td>1.62832</td>\n",
       "      <td>1.62832</td>\n",
       "      <td>45.738081</td>\n",
       "      <td>0.0</td>\n",
       "    </tr>\n",
       "    <tr>\n",
       "      <th>16</th>\n",
       "      <td>6</td>\n",
       "      <td>43</td>\n",
       "      <td>20</td>\n",
       "      <td>1.62832</td>\n",
       "      <td>1.62832</td>\n",
       "      <td>45.738081</td>\n",
       "      <td>0.0</td>\n",
       "    </tr>\n",
       "    <tr>\n",
       "      <th>23</th>\n",
       "      <td>13</td>\n",
       "      <td>62</td>\n",
       "      <td>28</td>\n",
       "      <td>1.46102</td>\n",
       "      <td>1.46102</td>\n",
       "      <td>45.047613</td>\n",
       "      <td>0.0</td>\n",
       "    </tr>\n",
       "    <tr>\n",
       "      <th>26</th>\n",
       "      <td>17</td>\n",
       "      <td>78</td>\n",
       "      <td>46</td>\n",
       "      <td>1.84535</td>\n",
       "      <td>1.84535</td>\n",
       "      <td>45.767361</td>\n",
       "      <td>0.0</td>\n",
       "    </tr>\n",
       "    <tr>\n",
       "      <th>27</th>\n",
       "      <td>18</td>\n",
       "      <td>79</td>\n",
       "      <td>47</td>\n",
       "      <td>2.29918</td>\n",
       "      <td>2.29918</td>\n",
       "      <td>45.322956</td>\n",
       "      <td>0.0</td>\n",
       "    </tr>\n",
       "  </tbody>\n",
       "</table>\n",
       "</div>"
      ],
      "text/plain": [
       "    EventID  l1_index  l2_index  l1_theta  l2_theta   momentum  delta_theta\n",
       "15        6        42        20   1.62832   1.62832  45.738081          0.0\n",
       "16        6        43        20   1.62832   1.62832  45.738081          0.0\n",
       "23       13        62        28   1.46102   1.46102  45.047613          0.0\n",
       "26       17        78        46   1.84535   1.84535  45.767361          0.0\n",
       "27       18        79        47   2.29918   2.29918  45.322956          0.0"
      ]
     },
     "execution_count": 20,
     "metadata": {},
     "output_type": "execute_result"
    }
   ],
   "source": [
    "# sorting the reconstructed particle dataset by increasing delta theta\n",
    "sorted_particles = pairs.sort_values(by=['delta_theta', 'EventID'])\n",
    "sorted_particles.head()"
   ]
  },
  {
   "cell_type": "code",
   "execution_count": 21,
   "id": "a5b45e5d-82aa-4691-9da9-b793fba4555d",
   "metadata": {
    "tags": []
   },
   "outputs": [],
   "source": [
    "events = np.arange(1000)\n",
    "\n",
    "# creating an empty list to store summent momentum values\n",
    "summed_momenta = []\n",
    "\n",
    "# looping over reconstructed particle event IDs and choosing the two reconstructions that \n",
    "# have the smallest delta theta then summing their momenta to find total reconstructed \n",
    "# energy\n",
    "for event in truth_ids:\n",
    "    subset = sorted_particles[sorted_particles['EventID'] == event]\n",
    "    num = len(subset)\n",
    "    subset = subset.set_index(np.arange(num))\n",
    "\n",
    "    if num > 1:\n",
    "        sum_p = subset['momentum'][0] + subset['momentum'][1]\n",
    "        summed_momenta.append(sum_p)"
   ]
  },
  {
   "cell_type": "code",
   "execution_count": 22,
   "id": "08d8002e-eb44-4be3-8350-e77f0c027891",
   "metadata": {},
   "outputs": [
    {
     "data": {
      "image/png": "[encoded data removed]",
      "text/plain": [
       "<Figure size 640x480 with 1 Axes>"
      ]
     },
     "metadata": {},
     "output_type": "display_data"
    }
   ],
   "source": [
    "# plotting mass distribution\n",
    "plt.figure()\n",
    "plt.hist(summed_momenta, bins=75)\n",
    "plt.xlim([40, 100])\n",
    "plt.xlabel('Total Reconstructed Energy [GeV]')\n",
    "plt.ylabel('Number of Events')\n",
    "plt.show()"
   ]
  },
  {
   "cell_type": "code",
   "execution_count": 23,
   "id": "2aab1fef-2778-4bd4-adec-e19225f0b08f",
   "metadata": {},
   "outputs": [
    {
     "data": {
      "image/png": "[encoded data removed]",
      "text/plain": [
       "<Figure size 640x480 with 1 Axes>"
      ]
     },
     "metadata": {},
     "output_type": "display_data"
    }
   ],
   "source": [
    "# plotting mass distribution with logscale y axis\n",
    "plt.figure()\n",
    "plt.hist(summed_momenta, bins=75)\n",
    "plt.xlim([40, 100])\n",
    "plt.xlabel('Total Reconstructed Energy [GeV]')\n",
    "plt.ylabel('log(Number of Events)')\n",
    "plt.yscale('log')\n",
    "plt.show()"
   ]
  },
  {
   "cell_type": "code",
   "execution_count": 24,
   "id": "76e25d53-20ca-4686-bfac-f9f5a1b1d89e",
   "metadata": {},
   "outputs": [
    {
     "name": "stdout",
     "output_type": "stream",
     "text": [
      "The particle has a mass of  89.21273473895769 GeV and a decay width of  8.145595719737813 GeV\n"
     ]
    }
   ],
   "source": [
    "# finding the decaying particle's mass and decay width\n",
    "mass = np.mean(summed_momenta)\n",
    "width = np.std(summed_momenta)\n",
    "\n",
    "print('The particle has a mass of ', mass, 'GeV and a decay width of ', width, 'GeV')"
   ]
  },
  {
   "cell_type": "markdown",
   "id": "8971cd30-a86e-4388-96e4-1bb302d297bc",
   "metadata": {},
   "source": [
    "This corresponds most closely to the mass of the Z boson, which is 91.2 GeV and has a decay width of 2.5 GeV. The reconstructed data is shifted slightly in the negative x direction and has a wider peak."
   ]
  }
 ],
 "metadata": {
  "kernelspec": {
   "display_name": "Python 3 (ipykernel)",
   "language": "python",
   "name": "python3"
  },
  "language_info": {
   "codemirror_mode": {
    "name": "ipython",
    "version": 3
   },
   "file_extension": ".py",
   "mimetype": "text/x-python",
   "name": "python",
   "nbconvert_exporter": "python",
   "pygments_lexer": "ipython3",
   "version": "3.7.13"
  }
 },
 "nbformat": 4,
 "nbformat_minor": 5
}
